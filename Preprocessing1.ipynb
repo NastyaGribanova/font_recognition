{
 "cells": [
  {
   "cell_type": "code",
   "execution_count": 137,
   "metadata": {
    "cellId": "anb9bcref5is20o5zwyaz"
   },
   "outputs": [],
   "source": [
    "from skimage import io\n",
    "from skimage import color\n",
    "import skimage \n",
    "import IPython\n",
    "import PIL\n",
    "from PIL import Image"
   ]
  },
  {
   "cell_type": "code",
   "execution_count": 138,
   "metadata": {
    "cellId": "oq4s9is64iexv8bg7gvds"
   },
   "outputs": [],
   "source": [
    "def to_gray(img):\n",
    "    img1 = skimage.color.rgb2gray(skimage.io.imread(img)) * 255\n",
    "    img1 = PIL.Image.fromarray(img1).convert('RGB')\n",
    "    return img1"
   ]
  },
  {
   "cell_type": "code",
   "execution_count": 146,
   "metadata": {
    "cellId": "o6y6tgliyhqjuepw84x2n"
   },
   "outputs": [],
   "source": [
    "import os\n",
    "import pandas as pd\n",
    "\n",
    "img_path = 'Images/'\n",
    "new_img_path = 'Images_preprocessing/'\n",
    "\n",
    "list_files = []\n",
    "for dir in os.listdir(img_path):\n",
    "    aux_dir = os.path.join(img_path,dir)\n",
    "    \n",
    "    if (str(dir) != \".ipynb_checkpoints\"):\n",
    "        new_dir = str(new_img_path) + str(dir)\n",
    "        os.makedirs(new_dir)\n",
    "        \n",
    "    if os.path.isdir(aux_dir):\n",
    "        for img in os.listdir(aux_dir):\n",
    "            list_files.append([os.path.join(dir,img),dir])"
   ]
  },
  {
   "cell_type": "code",
   "execution_count": 147,
   "metadata": {
    "cellId": "ceylp37fd0rf4sqw6o898g"
   },
   "outputs": [],
   "source": [
    "for i in range(len(list_files)):\n",
    "    img = img_path + list_files[i][0]\n",
    "    img = to_gray(img)\n",
    "    new_image_path = 'Images_preprocessing/' + str(list_files[i][0])\n",
    "    img.save(new_image_path)"
   ]
  },
  {
   "cell_type": "code",
   "execution_count": 148,
   "metadata": {
    "cellId": "1nh6ke6zpemflzahupd7p8"
   },
   "outputs": [],
   "source": [
    "for i in range(len(list_files)):\n",
    "    path = new_img_path + list_files[i][0]\n",
    "    image = cv2.imread(path)\n",
    "    image = cv2.threshold(image, 50, 255, cv2.THRESH_BINARY)[1]\n",
    "    new_image_path = 'Images_preprocessing/' + str(list_files[i][0])\n",
    "    img = Image.fromarray(image, 'RGB')\n",
    "    img.save(new_image_path)"
   ]
  },
  {
   "cell_type": "markdown",
   "metadata": {
    "cellId": "0xbjktv5x77ibd8c4y1m84e"
   },
   "source": [
    "Проверка"
   ]
  },
  {
   "cell_type": "code",
   "execution_count": 153,
   "metadata": {
    "cellId": "v2lwzkd93irk8r0i0uoh8h"
   },
   "outputs": [],
   "source": [
    "import cv2\n",
    "from matplotlib import pyplot as plt\n",
    " \n",
    "img = cv2.imread('Images_preprocessing/' + str(list_files[1][0]))\n",
    "binary = cv2.threshold(img,50,255,cv2.THRESH_BINARY)[1]\n",
    "#binary = cv2.threshold(img, 50, 255, cv2.THRESH_TOZERO)[1]\n",
    "\n",
    "plt.imshow(binary)\n",
    "plt.show()"
   ]
  },
  {
   "cell_type": "code",
   "execution_count": 154,
   "metadata": {
    "cellId": "bmx5mfi2j5b54n639ns19"
   },
   "outputs": [],
   "source": [
    "img = Image.open('Images/Inter/Inter-Regular2.jpg')\n",
    "img.show()"
   ]
  }
 ],
 "metadata": {
  "kernelspec": {
   "display_name": "Yandex DataSphere Kernel",
   "language": "python",
   "name": "python3"
  },
  "language_info": {
   "codemirror_mode": {
    "name": "ipython",
    "version": 3
   },
   "file_extension": ".py",
   "mimetype": "text/x-python",
   "name": "python",
   "nbconvert_exporter": "python",
   "pygments_lexer": "ipython3",
   "version": "3.7.7"
  },
  "notebookId": "33facbfa-0e99-4d3a-aca7-3cad28e96fac",
  "notebookPath": "Preprocessing1.ipynb"
 },
 "nbformat": 4,
 "nbformat_minor": 4
}
