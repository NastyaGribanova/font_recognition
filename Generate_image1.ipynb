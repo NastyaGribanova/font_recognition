{
 "cells": [
  {
   "cell_type": "code",
   "execution_count": 19,
   "metadata": {
    "cellId": "btq07rp2d3va39w5uv1k2a"
   },
   "outputs": [],
   "source": [
    "import random\n",
    "\n",
    "def random_color():\n",
    "    return random.randint(0, 255)\n",
    "\n",
    "def random_width():\n",
    "    return random.randint(100, 1000)\n",
    "\n",
    "def random_height(width):\n",
    "    return random.randint(100, int(width * 1.5))\n",
    "\n",
    "def random_count():\n",
    "    return random.randint(1, 15)\n",
    "\n",
    "def random_font_size(size):\n",
    "    percent = random.randint(9, 60)\n",
    "    font_size = percent * size / 100\n",
    "    return int(font_size)"
   ]
  },
  {
   "cell_type": "code",
   "execution_count": 21,
   "metadata": {
    "cellId": "wgon0bdnob85avmry8cuny"
   },
   "outputs": [],
   "source": [
    "#!c1.8\n",
    "from PIL import Image, ImageDraw, ImageFont\n",
    "\n",
    "def generate_image(font_name_without_family, font_name, font_function_path, save_path, number, color_img, color_text):\n",
    "    \n",
    "    width = random_width()\n",
    "    height = random_height(width)\n",
    "\n",
    "    img = Image.new('RGB', (width, height), color=color_img)\n",
    "\n",
    "    draw = ImageDraw.ImageDraw(img)\n",
    "\n",
    "    xy = (random.randint(1, int(img.size[0]/2)), random.randint(int(img.size[1]/6.5), int(img.size[1]/1.8)))\n",
    "\n",
    "    text = ''\n",
    "    count = random_count()\n",
    "    for i in range(count):\n",
    "        text += str(chr(random.randint(1040, 1103)))\n",
    "\n",
    "    font = ImageFont.truetype(font_function_path, random_font_size(height))\n",
    "\n",
    "    draw.text(xy=xy, text=text, anchor=\"lm\", font=font, fill=color_text)\n",
    "\n",
    "    new_image_path = str(save_path) + str(font_name_without_family) + \"/\" + str(font_name) + str(number) + '.jpg'\n",
    "\n",
    "    img.save(new_image_path)"
   ]
  },
  {
   "cell_type": "markdown",
   "metadata": {
    "cellId": "ku1n1491ppk6ik7t8w7"
   },
   "source": [
    "Достаем шрифты из папки, генерируем изображения с текстом заданного шрифта, после чего сохраняем в отдельную папку полученные изображения"
   ]
  },
  {
   "cell_type": "code",
   "execution_count": 30,
   "metadata": {
    "cellId": "z6jw4r4l07iw01qwdnkqxq"
   },
   "outputs": [],
   "source": [
    "#!c1.8\n",
    "import os\n",
    "\n",
    "fonts_path = 'Fonts/'\n",
    "save_path = 'Images/'\n",
    "k = 100\n",
    "\n",
    "for dir in os.listdir(fonts_path):\n",
    "    if (str(dir) != \".ipynb_checkpoints\"):\n",
    "        aux_dir = os.path.join(fonts_path,dir)\n",
    "        new_dir = str(save_path) + str(dir)\n",
    "        os.makedirs(new_dir)\n",
    "        if os.path.isdir(aux_dir):\n",
    "            for file in os.listdir(aux_dir):\n",
    "                filename = os.fsdecode(file)\n",
    "                font_name = filename.split('.')[0]\n",
    "                font_function_path = os.path.join(aux_dir,file)\n",
    "                font_name_without_family = font_name.split('-')[0]\n",
    "\n",
    "                if filename.endswith(\".ttf\"): \n",
    "                    for i in range(1, int(k/2)):\n",
    "                        generate_image(font_name_without_family, font_name, font_function_path, save_path, i, (random_color(), random_color(), random_color()), random_color())\n",
    "                    for j in range(int(k/2), k):\n",
    "                        generate_image(font_name_without_family, font_name, font_function_path, save_path, i, 255, 0)"
   ]
  },
  {
   "cell_type": "code",
   "execution_count": 31,
   "metadata": {
    "cellId": "u6u5szl9p6dn3uwzf6ls7"
   },
   "outputs": [],
   "source": [
    "#!c1.8\n",
    "import os\n",
    "\n",
    "fonts_path = 'Fonts/Montserrat'\n",
    "save_path = 'Images/'\n",
    "k = 500\n",
    "\n",
    "for file in os.listdir(fonts_path):\n",
    "    filename = os.fsdecode(file)\n",
    "    font_name = filename.split('.')[0]\n",
    "    font_function_path = os.path.join(fonts_path,file)\n",
    "    font_name_without_family = font_name.split('-')[0]\n",
    "    if filename.endswith(\".ttf\"): \n",
    "        for i in range(1, int(k/2)):\n",
    "            generate_image(font_name_without_family, font_name, font_function_path, save_path, i, (random_color(), random_color(), random_color()), random_color())\n",
    "        for j in range(int(k/2), k):\n",
    "                    generate_image(font_name_without_family, font_name, font_function_path, save_path, i, 255, 0)"
   ]
  }
 ],
 "metadata": {
  "kernelspec": {
   "display_name": "Yandex DataSphere Kernel",
   "language": "python",
   "name": "python3"
  },
  "language_info": {
   "codemirror_mode": {
    "name": "ipython",
    "version": 3
   },
   "file_extension": ".py",
   "mimetype": "text/x-python",
   "name": "python",
   "nbconvert_exporter": "python",
   "pygments_lexer": "ipython3",
   "version": "3.7.7"
  },
  "notebookId": "ad70d8a3-6d14-42dd-aeb0-594ab0dcf28c",
  "notebookPath": "Generate_image1.ipynb"
 },
 "nbformat": 4,
 "nbformat_minor": 4
}
