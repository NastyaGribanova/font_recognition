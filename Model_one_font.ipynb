{
 "cells": [
  {
   "cell_type": "code",
   "execution_count": 1,
   "metadata": {
    "cellId": "um9s42rlpmwnknbz296i"
   },
   "outputs": [],
   "source": [
    "#!c1.8\n",
    "import warnings\n",
    "warnings.filterwarnings('ignore')\n",
    "%matplotlib inline"
   ]
  },
  {
   "cell_type": "markdown",
   "metadata": {
    "cellId": "jo78xyyyfplb3qbc02aj8j"
   },
   "source": [
    "Объединим все изображения в один датафрейм"
   ]
  },
  {
   "cell_type": "code",
   "execution_count": 2,
   "metadata": {
    "cellId": "izupuxpjgz9e0nqt3jbwfs"
   },
   "outputs": [
    {
     "data": {
      "text/html": [
       "<div>\n",
       "<style scoped>\n",
       "    .dataframe tbody tr th:only-of-type {\n",
       "        vertical-align: middle;\n",
       "    }\n",
       "\n",
       "    .dataframe tbody tr th {\n",
       "        vertical-align: top;\n",
       "    }\n",
       "\n",
       "    .dataframe thead th {\n",
       "        text-align: right;\n",
       "    }\n",
       "</style>\n",
       "<table border=\"1\" class=\"dataframe\">\n",
       "  <thead>\n",
       "    <tr style=\"text-align: right;\">\n",
       "      <th></th>\n",
       "      <th>id</th>\n",
       "      <th>label</th>\n",
       "    </tr>\n",
       "  </thead>\n",
       "  <tbody>\n",
       "    <tr>\n",
       "      <th>count</th>\n",
       "      <td>19377</td>\n",
       "      <td>19377</td>\n",
       "    </tr>\n",
       "    <tr>\n",
       "      <th>unique</th>\n",
       "      <td>19377</td>\n",
       "      <td>10</td>\n",
       "    </tr>\n",
       "    <tr>\n",
       "      <th>top</th>\n",
       "      <td>Montserrat/Montserrat-MediumItalic118.jpg</td>\n",
       "      <td>Montserrat</td>\n",
       "    </tr>\n",
       "    <tr>\n",
       "      <th>freq</th>\n",
       "      <td>1</td>\n",
       "      <td>8982</td>\n",
       "    </tr>\n",
       "  </tbody>\n",
       "</table>\n",
       "</div>"
      ],
      "text/plain": [
       "                                               id       label\n",
       "count                                       19377       19377\n",
       "unique                                      19377          10\n",
       "top     Montserrat/Montserrat-MediumItalic118.jpg  Montserrat\n",
       "freq                                            1        8982"
      ]
     },
     "metadata": {},
     "output_type": "display_data"
    }
   ],
   "source": [
    "#!c1.8\n",
    "import os\n",
    "import pandas as pd\n",
    "\n",
    "img_path = 'Images/'\n",
    "\n",
    "list_files = []\n",
    "for dir in os.listdir(img_path):\n",
    "    aux_dir = os.path.join(img_path,dir)\n",
    "    if os.path.isdir(aux_dir):\n",
    "        for img in os.listdir(aux_dir):\n",
    "            list_files.append([os.path.join(dir,img),dir])\n",
    "df = pd.DataFrame(list_files, columns=['id','label'])\n",
    "df.describe()"
   ]
  },
  {
   "cell_type": "code",
   "execution_count": 3,
   "metadata": {
    "cellId": "k80v22706tl97fpszwzsya"
   },
   "outputs": [],
   "source": [
    "#!c1.8\n",
    "df['id'] = df['id'].str.replace('\\\\', '/')"
   ]
  },
  {
   "cell_type": "code",
   "execution_count": 4,
   "metadata": {
    "cellId": "94tnyniq3ceqsmoz5zkxl8"
   },
   "outputs": [
    {
     "data": {
      "text/html": [
       "<div>\n",
       "<style scoped>\n",
       "    .dataframe tbody tr th:only-of-type {\n",
       "        vertical-align: middle;\n",
       "    }\n",
       "\n",
       "    .dataframe tbody tr th {\n",
       "        vertical-align: top;\n",
       "    }\n",
       "\n",
       "    .dataframe thead th {\n",
       "        text-align: right;\n",
       "    }\n",
       "</style>\n",
       "<table border=\"1\" class=\"dataframe\">\n",
       "  <thead>\n",
       "    <tr style=\"text-align: right;\">\n",
       "      <th></th>\n",
       "      <th>id</th>\n",
       "      <th>label</th>\n",
       "    </tr>\n",
       "  </thead>\n",
       "  <tbody>\n",
       "    <tr>\n",
       "      <th>0</th>\n",
       "      <td>Inter/Inter-Bold1.jpg</td>\n",
       "      <td>Inter</td>\n",
       "    </tr>\n",
       "    <tr>\n",
       "      <th>1</th>\n",
       "      <td>Inter/Inter-Bold2.jpg</td>\n",
       "      <td>Inter</td>\n",
       "    </tr>\n",
       "    <tr>\n",
       "      <th>2</th>\n",
       "      <td>Inter/Inter-Bold3.jpg</td>\n",
       "      <td>Inter</td>\n",
       "    </tr>\n",
       "    <tr>\n",
       "      <th>3</th>\n",
       "      <td>Inter/Inter-Bold4.jpg</td>\n",
       "      <td>Inter</td>\n",
       "    </tr>\n",
       "    <tr>\n",
       "      <th>4</th>\n",
       "      <td>Inter/Inter-Bold5.jpg</td>\n",
       "      <td>Inter</td>\n",
       "    </tr>\n",
       "  </tbody>\n",
       "</table>\n",
       "</div>"
      ],
      "text/plain": [
       "                      id  label\n",
       "0  Inter/Inter-Bold1.jpg  Inter\n",
       "1  Inter/Inter-Bold2.jpg  Inter\n",
       "2  Inter/Inter-Bold3.jpg  Inter\n",
       "3  Inter/Inter-Bold4.jpg  Inter\n",
       "4  Inter/Inter-Bold5.jpg  Inter"
      ]
     },
     "metadata": {},
     "output_type": "display_data"
    }
   ],
   "source": [
    "#!c1.8\n",
    "df.head()"
   ]
  },
  {
   "cell_type": "code",
   "execution_count": 5,
   "metadata": {
    "cellId": "4vubt11nr9g7kwify1f687"
   },
   "outputs": [],
   "source": [
    "#!c1.8\n",
    "for index, row in df.iterrows():\n",
    "    if row['label']=='Montserrat':\n",
    "        row['label']='1'\n",
    "    else: \n",
    "        row['label']='0'"
   ]
  },
  {
   "cell_type": "code",
   "execution_count": 6,
   "metadata": {
    "cellId": "ytnq31skuqln134dj1juyp"
   },
   "outputs": [
    {
     "name": "stdout",
     "output_type": "stream",
     "text": [
      "<class 'pandas.core.frame.DataFrame'>\n",
      "RangeIndex: 19377 entries, 0 to 19376\n",
      "Data columns (total 2 columns):\n",
      "id       19377 non-null object\n",
      "label    19377 non-null object\n",
      "dtypes: object(2)\n",
      "memory usage: 302.9+ KB\n"
     ]
    }
   ],
   "source": [
    "#!c1.8\n",
    "df.info()"
   ]
  },
  {
   "cell_type": "markdown",
   "metadata": {
    "cellId": "s6jux5ddgwn5zvsevgiwkb"
   },
   "source": [
    "Посмотрим на сбалансированность данных"
   ]
  },
  {
   "cell_type": "code",
   "execution_count": 7,
   "metadata": {
    "cellId": "zf7un47j28l2lbb4nm9t"
   },
   "outputs": [
    {
     "data": {
      "text/html": [
       "<div>\n",
       "<style scoped>\n",
       "    .dataframe tbody tr th:only-of-type {\n",
       "        vertical-align: middle;\n",
       "    }\n",
       "\n",
       "    .dataframe tbody tr th {\n",
       "        vertical-align: top;\n",
       "    }\n",
       "\n",
       "    .dataframe thead th {\n",
       "        text-align: right;\n",
       "    }\n",
       "</style>\n",
       "<table border=\"1\" class=\"dataframe\">\n",
       "  <thead>\n",
       "    <tr style=\"text-align: right;\">\n",
       "      <th></th>\n",
       "      <th>Label</th>\n",
       "      <th>Absolute frequency</th>\n",
       "      <th>Relative frequency</th>\n",
       "    </tr>\n",
       "  </thead>\n",
       "  <tbody>\n",
       "    <tr>\n",
       "      <th>0</th>\n",
       "      <td>0</td>\n",
       "      <td>10395</td>\n",
       "      <td>0.536461</td>\n",
       "    </tr>\n",
       "    <tr>\n",
       "      <th>1</th>\n",
       "      <td>1</td>\n",
       "      <td>8982</td>\n",
       "      <td>0.463539</td>\n",
       "    </tr>\n",
       "  </tbody>\n",
       "</table>\n",
       "</div>"
      ],
      "text/plain": [
       "  Label  Absolute frequency  Relative frequency\n",
       "0     0               10395            0.536461\n",
       "1     1                8982            0.463539"
      ]
     },
     "metadata": {},
     "output_type": "display_data"
    }
   ],
   "source": [
    "#!c1.8\n",
    "from collections import Counter\n",
    "\n",
    "\n",
    "def frequency_plot(df):\n",
    "    freq_abs = Counter(df.label);\n",
    "    freq_a = pd.DataFrame.from_dict(freq_abs, orient='index').reset_index()\n",
    "    total = len(df.index)\n",
    "    freq_r = freq_a[0]/total\n",
    "    freq_a[1] = freq_r\n",
    "    freq_a.columns = ['Label','Absolute frequency','Relative frequency']  \n",
    "    return freq_a\n",
    "\n",
    "frequency_plot(df)"
   ]
  },
  {
   "cell_type": "markdown",
   "metadata": {
    "cellId": "2gv3e74yfpo7ikh1b46hfo"
   },
   "source": [
    "Сбалансируем данные: увеличим размер классов, которым не доставало до размера таргет класса и уменьшим те, которые были слишком большими"
   ]
  },
  {
   "cell_type": "code",
   "execution_count": 8,
   "metadata": {
    "cellId": "ga20x8iocv72vil6dy9wc4"
   },
   "outputs": [],
   "source": [
    "#!c1.8\n",
    "focus_class = '1'\n",
    "\n",
    "focus_class_df = df[df.label == focus_class]\n",
    "count_focus_class = len(focus_class_df)"
   ]
  },
  {
   "cell_type": "code",
   "execution_count": 9,
   "metadata": {
    "cellId": "cy8j5pe2ionx022ceaa20d"
   },
   "outputs": [],
   "source": [
    "#!c1.8\n",
    "def balance_small_data(df,target_size):\n",
    "\n",
    "    df_groups = df.groupby(['label'])\n",
    "    df_balanced = pd.DataFrame({key:[] for key in df.keys()})\n",
    "\n",
    "    for i in df_groups.groups.keys():\n",
    "        df_group = df_groups.get_group(i)\n",
    "        df_label = df_group.sample(frac=1)\n",
    "        current_size = len(df_label)\n",
    "        \n",
    "        if current_size > target_size:\n",
    "            continue\n",
    "        else:\n",
    "            repeat, mod = divmod(target_size,current_size)\n",
    "\n",
    "            df_label_new = pd.concat([df_label]*repeat,ignore_index=True,axis=0)\n",
    "            df_label_remainder = df_group.sample(n=mod)\n",
    "\n",
    "            df_label_new = pd.concat([df_label_new,df_label_remainder],ignore_index=True,axis=0)\n",
    "\n",
    "        df_balanced = pd.concat([df_balanced,df_label_new],ignore_index=True,axis=0)\n",
    "\n",
    "    return df_balanced"
   ]
  },
  {
   "cell_type": "code",
   "execution_count": 10,
   "metadata": {
    "cellId": "unm99z4rygjokb9jr6deu"
   },
   "outputs": [],
   "source": [
    "#!c1.8\n",
    "def balance_big_data(df, count_focus_class):\n",
    "    classes = df.label.unique()\n",
    "    classes_df_list = []\n",
    "    \n",
    "    for classe in classes:\n",
    "        class_df = df[df.label == classe]\n",
    "        count_class = len(class_df)\n",
    "        if count_class <= count_focus_class:\n",
    "            continue\n",
    "        else:\n",
    "            class_df = class_df.sample(count_focus_class)\n",
    "        classes_df_list.append(class_df)\n",
    "    df_new = pd.concat(classes_df_list, axis=0) \n",
    "    return df_new"
   ]
  },
  {
   "cell_type": "code",
   "execution_count": 11,
   "metadata": {
    "cellId": "y3hg5iljuyph624v5918ut"
   },
   "outputs": [],
   "source": [
    "#!c1.8\n",
    "df_balanced_small = balance_small_data(df, count_focus_class)\n",
    "df_balanced_big = balance_big_data(df, count_focus_class)\n",
    "\n",
    "df_balanced = pd.concat([df_balanced_small,df_balanced_big],ignore_index=True)"
   ]
  },
  {
   "cell_type": "code",
   "execution_count": 12,
   "metadata": {
    "cellId": "8aztng2a8ht4m9k01weh"
   },
   "outputs": [
    {
     "data": {
      "text/html": [
       "<div>\n",
       "<style scoped>\n",
       "    .dataframe tbody tr th:only-of-type {\n",
       "        vertical-align: middle;\n",
       "    }\n",
       "\n",
       "    .dataframe tbody tr th {\n",
       "        vertical-align: top;\n",
       "    }\n",
       "\n",
       "    .dataframe thead th {\n",
       "        text-align: right;\n",
       "    }\n",
       "</style>\n",
       "<table border=\"1\" class=\"dataframe\">\n",
       "  <thead>\n",
       "    <tr style=\"text-align: right;\">\n",
       "      <th></th>\n",
       "      <th>id</th>\n",
       "      <th>label</th>\n",
       "    </tr>\n",
       "  </thead>\n",
       "  <tbody>\n",
       "    <tr>\n",
       "      <th>count</th>\n",
       "      <td>17964</td>\n",
       "      <td>17964</td>\n",
       "    </tr>\n",
       "    <tr>\n",
       "      <th>unique</th>\n",
       "      <td>17964</td>\n",
       "      <td>2</td>\n",
       "    </tr>\n",
       "    <tr>\n",
       "      <th>top</th>\n",
       "      <td>Lora/Lora-Italic5.jpg</td>\n",
       "      <td>0</td>\n",
       "    </tr>\n",
       "    <tr>\n",
       "      <th>freq</th>\n",
       "      <td>1</td>\n",
       "      <td>8982</td>\n",
       "    </tr>\n",
       "  </tbody>\n",
       "</table>\n",
       "</div>"
      ],
      "text/plain": [
       "                           id  label\n",
       "count                   17964  17964\n",
       "unique                  17964      2\n",
       "top     Lora/Lora-Italic5.jpg      0\n",
       "freq                        1   8982"
      ]
     },
     "metadata": {},
     "output_type": "display_data"
    }
   ],
   "source": [
    "#!c1.8\n",
    "df_balanced.describe()"
   ]
  },
  {
   "cell_type": "code",
   "execution_count": 13,
   "metadata": {
    "cellId": "q11vry1l4u2o82xld1k7p"
   },
   "outputs": [
    {
     "data": {
      "text/html": [
       "<div>\n",
       "<style scoped>\n",
       "    .dataframe tbody tr th:only-of-type {\n",
       "        vertical-align: middle;\n",
       "    }\n",
       "\n",
       "    .dataframe tbody tr th {\n",
       "        vertical-align: top;\n",
       "    }\n",
       "\n",
       "    .dataframe thead th {\n",
       "        text-align: right;\n",
       "    }\n",
       "</style>\n",
       "<table border=\"1\" class=\"dataframe\">\n",
       "  <thead>\n",
       "    <tr style=\"text-align: right;\">\n",
       "      <th></th>\n",
       "      <th>Label</th>\n",
       "      <th>Absolute frequency</th>\n",
       "      <th>Relative frequency</th>\n",
       "    </tr>\n",
       "  </thead>\n",
       "  <tbody>\n",
       "    <tr>\n",
       "      <th>0</th>\n",
       "      <td>1</td>\n",
       "      <td>8982</td>\n",
       "      <td>0.5</td>\n",
       "    </tr>\n",
       "    <tr>\n",
       "      <th>1</th>\n",
       "      <td>0</td>\n",
       "      <td>8982</td>\n",
       "      <td>0.5</td>\n",
       "    </tr>\n",
       "  </tbody>\n",
       "</table>\n",
       "</div>"
      ],
      "text/plain": [
       "  Label  Absolute frequency  Relative frequency\n",
       "0     1                8982                 0.5\n",
       "1     0                8982                 0.5"
      ]
     },
     "metadata": {},
     "output_type": "display_data"
    }
   ],
   "source": [
    "#!c1.8\n",
    "frequency_plot(df_balanced)"
   ]
  },
  {
   "cell_type": "markdown",
   "metadata": {
    "cellId": "1dzolnk8dmv8qhmiz4c2e9"
   },
   "source": [
    "Разделим выборку на тренировочную, валидационную и тестовую в пропорциях 60, 20, 20 "
   ]
  },
  {
   "cell_type": "code",
   "execution_count": 14,
   "metadata": {
    "cellId": "ecfxyo5wqdh1rsdi958ser"
   },
   "outputs": [],
   "source": [
    "#!c1.8\n",
    "import numpy as np\n",
    "\n",
    "train, validate, test = np.split(df_balanced.sample(frac=1), [int(.6*len(df)), int(.8*len(df))])"
   ]
  },
  {
   "cell_type": "markdown",
   "metadata": {
    "cellId": "ga7yprxm8su39h1snpfs83"
   },
   "source": [
    "###### С помощью keras достанем изображения по пути из датафрейма"
   ]
  },
  {
   "cell_type": "code",
   "execution_count": 15,
   "metadata": {
    "cellId": "6m5lkt5o5r9x3ptj5il4gp"
   },
   "outputs": [
    {
     "name": "stdout",
     "output_type": "stream",
     "text": [
      "Found 11626 validated image filenames belonging to 2 classes.\n",
      "Found 3875 validated image filenames belonging to 2 classes.\n",
      "Found 2463 validated image filenames belonging to 2 classes.\n"
     ]
    }
   ],
   "source": [
    "#!c1.8\n",
    "from keras.preprocessing.image import ImageDataGenerator\n",
    "\n",
    "image_datagen = ImageDataGenerator(rescale=1. / 255)\n",
    "img_width, img_height = 128, 128\n",
    "batch_size = 16\n",
    "\n",
    "train_generator = image_datagen.flow_from_dataframe(\n",
    "            dataframe=train,\n",
    "            directory=img_path,\n",
    "            x_col=\"id\",\n",
    "            y_col=\"label\",\n",
    "            class_mode=\"binary\",\n",
    "            target_size=(img_width, img_height),\n",
    "            batch_size=batch_size,\n",
    "            color_mode='grayscale'\n",
    "            )\n",
    "\n",
    "validate_generator = image_datagen.flow_from_dataframe(\n",
    "            dataframe=validate,\n",
    "            directory=img_path,\n",
    "            x_col=\"id\",\n",
    "            y_col=\"label\",\n",
    "            class_mode=\"binary\",\n",
    "            target_size=(img_width, img_height),\n",
    "            batch_size=batch_size,\n",
    "            color_mode='grayscale'\n",
    "            )\n",
    "\n",
    "test_generator = image_datagen.flow_from_dataframe(\n",
    "            dataframe=test,\n",
    "            directory=img_path,\n",
    "            x_col=\"id\",\n",
    "            y_col=\"label\",\n",
    "            class_mode=\"binary\",\n",
    "            target_size=(img_width, img_height),\n",
    "            batch_size=batch_size,\n",
    "            color_mode='grayscale'\n",
    "            )"
   ]
  },
  {
   "cell_type": "markdown",
   "metadata": {
    "cellId": "6z15qe27fzs9g9mwd63wqv"
   },
   "source": [
    "**Модель нейронной сети**"
   ]
  },
  {
   "cell_type": "code",
   "execution_count": 16,
   "metadata": {
    "cellId": "8ov56ovvh4fmcbhvdh2q0a"
   },
   "outputs": [],
   "source": [
    "#!c1.8\n",
    "from tensorflow.python.keras.models import Sequential\n",
    "from tensorflow.python.keras.layers import Conv2D, MaxPooling2D\n",
    "from tensorflow.python.keras.layers import Activation, Dropout, Flatten, Dense, BatchNormalization, Bidirectional, GRU\n",
    "from tensorflow.python.keras import optimizers"
   ]
  },
  {
   "cell_type": "code",
   "execution_count": 17,
   "metadata": {
    "cellId": "xji6i6jf57muocazb3her"
   },
   "outputs": [],
   "source": [
    "#!c1.8\n",
    "input_shape = (img_width, img_height, 1)\n",
    "epochs = 15\n",
    "nb_train_samples = len(train)\n",
    "nb_validation_samples = len(validate)\n",
    "nb_test_samples = len(test)"
   ]
  },
  {
   "cell_type": "code",
   "execution_count": 18,
   "metadata": {
    "cellId": "1jk5v1qpqxixuwjbxgrxbb"
   },
   "outputs": [],
   "source": [
    "#!c1.8\n",
    "model = Sequential()\n",
    "\n",
    "model.add(Conv2D(32, (3,3), activation = 'relu', padding='same', input_shape=input_shape))\n",
    "model.add(MaxPooling2D(pool_size=(4, 2), strides=2))\n",
    "\n",
    "model.add(Conv2D(64, (3,3), activation = 'relu', padding='same', input_shape=input_shape))\n",
    "model.add(MaxPooling2D(pool_size=(4, 2), strides=2))\n",
    "\n",
    "model.add(Conv2D(128, (3,3), activation = 'relu', padding='same', input_shape=input_shape))\n",
    "model.add(MaxPooling2D(pool_size=(4, 2), strides=2))\n",
    "\n",
    "model.add(Conv2D(256, (3,3), activation = 'relu', padding='same', input_shape=input_shape))\n",
    "model.add(MaxPooling2D(pool_size=(4, 2), padding='same'))\n",
    "\n",
    "#model.add(Bidirectional(GRU(256, return_sequences=True, dropout = 0.2)))\n",
    "\n",
    "model.add(Flatten(input_shape=input_shape))\n",
    "model.add(Dense(64, activation='relu'))\n",
    "model.add(Dropout(0.5))\n",
    "model.add(Dense(1, activation='sigmoid'))"
   ]
  },
  {
   "cell_type": "code",
   "execution_count": 19,
   "metadata": {
    "cellId": "9vtcnhqytcpkdi10bl4hxh"
   },
   "outputs": [
    {
     "data": {
      "image/png": "[encoded data removed]",
      "text/plain": [
       "<IPython.core.display.Image object>"
      ]
     },
     "metadata": {},
     "output_type": "display_data"
    }
   ],
   "source": [
    "#!c1.8\n",
    "from tensorflow.keras.utils import plot_model\n",
    "plot_model(model ,show_shapes=True, show_layer_names=True, rankdir='TB', expand_nested=True)"
   ]
  },
  {
   "cell_type": "code",
   "execution_count": 20,
   "metadata": {
    "cellId": "2tkztpi67n68piajraf1jd"
   },
   "outputs": [],
   "source": [
    "#!c1.8\n",
    "model.compile(loss='binary_crossentropy',\n",
    "              optimizer='adam',\n",
    "              metrics=['accuracy'])"
   ]
  },
  {
   "cell_type": "code",
   "execution_count": 21,
   "metadata": {
    "cellId": "q9lrqd1rd3ntj0wr7jma"
   },
   "outputs": [
    {
     "name": "stdout",
     "output_type": "stream",
     "text": [
      "725/726 [============================>.] - ETA: 0s - loss: 0.1538 - acc: 0.9342Epoch 1/15\n",
      "726/726 [==============================] - 108s 148ms/step - loss: 0.1538 - acc: 0.9342 - val_loss: 0.2194 - val_acc: 0.9003\n",
      "Epoch 9/15\n",
      "725/726 [============================>.] - ETA: 0s - loss: 0.1375 - acc: 0.9408Epoch 1/15\n",
      "726/726 [==============================] - 108s 149ms/step - loss: 0.1374 - acc: 0.9409 - val_loss: 0.2308 - val_acc: 0.9032\n",
      "Epoch 10/15\n",
      "725/726 [============================>.] - ETA: 0s - loss: 0.1218 - acc: 0.9512Epoch 1/15\n",
      "726/726 [==============================] - 108s 148ms/step - loss: 0.1219 - acc: 0.9512 - val_loss: 0.3375 - val_acc: 0.8851\n",
      "Epoch 11/15\n",
      "725/726 [============================>.] - ETA: 0s - loss: 0.0969 - acc: 0.9592Epoch 1/15\n",
      "726/726 [==============================] - 107s 147ms/step - loss: 0.0968 - acc: 0.9593 - val_loss: 0.2383 - val_acc: 0.9104\n",
      "Epoch 12/15\n",
      "725/726 [============================>.] - ETA: 0s - loss: 0.0912 - acc: 0.9633Epoch 1/15\n",
      "726/726 [==============================] - 108s 149ms/step - loss: 0.0910 - acc: 0.9634 - val_loss: 0.2323 - val_acc: 0.9163\n",
      "Epoch 13/15\n",
      "725/726 [============================>.] - ETA: 0s - loss: 0.0896 - acc: 0.9639Epoch 1/15\n",
      "726/726 [==============================] - 111s 153ms/step - loss: 0.0895 - acc: 0.9639 - val_loss: 0.2818 - val_acc: 0.9099\n",
      "Epoch 14/15\n",
      "725/726 [============================>.] - ETA: 0s - loss: 0.0720 - acc: 0.9708Epoch 1/15\n",
      "726/726 [==============================] - 110s 152ms/step - loss: 0.0720 - acc: 0.9708 - val_loss: 0.3229 - val_acc: 0.9047\n",
      "Epoch 15/15\n",
      "725/726 [============================>.] - ETA: 0s - loss: 0.0704 - acc: 0.9732Epoch 1/15\n",
      "726/726 [==============================] - 110s 152ms/step - loss: 0.0705 - acc: 0.9731 - val_loss: 0.3786 - val_acc: 0.8949\n"
     ]
    },
    {
     "data": {
      "text/plain": [
       "<tensorflow.python.keras.callbacks.History at 0x7f9809052a90>"
      ]
     },
     "metadata": {},
     "output_type": "display_data"
    }
   ],
   "source": [
    "#!c1.8\n",
    "model.fit_generator(\n",
    "    train_generator,\n",
    "    steps_per_epoch=nb_train_samples // batch_size,\n",
    "    epochs=epochs,\n",
    "    validation_data=validate_generator,\n",
    "    validation_steps=nb_validation_samples // batch_size)"
   ]
  },
  {
   "cell_type": "code",
   "execution_count": 22,
   "metadata": {
    "cellId": "htbp4lyc39ys9cw0m5wz"
   },
   "outputs": [],
   "source": [
    "#!c1.8\n",
    "model.save('model/model.h5')"
   ]
  },
  {
   "cell_type": "code",
   "execution_count": 23,
   "metadata": {
    "cellId": "fadgh53wps6n8akolp1zrs"
   },
   "outputs": [
    {
     "name": "stdout",
     "output_type": "stream",
     "text": [
      "Точность на тестовых данных: 89.13%\n"
     ]
    }
   ],
   "source": [
    "#!c1.8\n",
    "scores = model.evaluate_generator(test_generator, nb_test_samples // batch_size)\n",
    "print(\"Точность на тестовых данных: %.2f%%\" % (scores[1]*100))"
   ]
  },
  {
   "cell_type": "code",
   "execution_count": 24,
   "metadata": {
    "cellId": "w2eiuyco1na7y3q3mg7tmy"
   },
   "outputs": [
    {
     "name": "stdout",
     "output_type": "stream",
     "text": [
      "Точность на тестовых данных: 89.83%\n"
     ]
    }
   ],
   "source": [
    "#!c1.8\n",
    "scores = model.evaluate_generator(validate_generator, nb_test_samples // batch_size)\n",
    "print(\"Точность на тестовых данных: %.2f%%\" % (scores[1]*100))"
   ]
  },
  {
   "cell_type": "code",
   "execution_count": null,
   "metadata": {
    "cellId": "m556pmlcqdpaqn8ozh5tfg"
   },
   "outputs": [],
   "source": [
    "#!c1.8\n"
   ]
  }
 ],
 "metadata": {
  "kernelspec": {
   "display_name": "Yandex DataSphere Kernel",
   "language": "python",
   "name": "python3"
  },
  "language_info": {
   "codemirror_mode": {
    "name": "ipython",
    "version": 3
   },
   "file_extension": ".py",
   "mimetype": "text/x-python",
   "name": "python",
   "nbconvert_exporter": "python",
   "pygments_lexer": "ipython3",
   "version": "3.7.7"
  },
  "notebookId": "0f6a0394-2a5b-41c0-a9ff-480f3b07fba8",
  "notebookPath": "Model_one_font.ipynb"
 },
 "nbformat": 4,
 "nbformat_minor": 4
}
