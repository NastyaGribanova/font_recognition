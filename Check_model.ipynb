{
 "cells": [
  {
   "cell_type": "code",
   "execution_count": 98,
   "id": "aab25a6c",
   "metadata": {
    "cellId": "6pjj7uc0mwn85ep89cngc"
   },
   "outputs": [],
   "source": [
    "from tensorflow.keras.models import load_model\n",
    "from PIL import Image\n",
    "import skimage "
   ]
  },
  {
   "cell_type": "code",
   "execution_count": 99,
   "id": "dd19b777",
   "metadata": {
    "cellId": "dp62k0tl2gtpxhkoua9a6h"
   },
   "outputs": [
    {
     "name": "stdout",
     "output_type": "stream",
     "text": [
      "WARNING:tensorflow:From /usr/local/lib/python3.7/dist-packages/tensorflow_core/python/ops/init_ops.py:97: calling GlorotUniform.__init__ (from tensorflow.python.ops.init_ops) with dtype is deprecated and will be removed in a future version.\n",
      "Instructions for updating:\n",
      "Call initializer instance with the dtype argument instead of passing it to the constructor\n",
      "WARNING:tensorflow:From /usr/local/lib/python3.7/dist-packages/tensorflow_core/python/ops/init_ops.py:97: calling Zeros.__init__ (from tensorflow.python.ops.init_ops) with dtype is deprecated and will be removed in a future version.\n",
      "Instructions for updating:\n",
      "Call initializer instance with the dtype argument instead of passing it to the constructor\n",
      "WARNING:tensorflow:From /usr/local/lib/python3.7/dist-packages/tensorflow_core/python/ops/resource_variable_ops.py:1630: calling BaseResourceVariable.__init__ (from tensorflow.python.ops.resource_variable_ops) with constraint is deprecated and will be removed in a future version.\n",
      "Instructions for updating:\n",
      "If using Keras pass *_constraint arguments to layers.\n"
     ]
    }
   ],
   "source": [
    "model = load_model('model/model.h5', compile=False)"
   ]
  },
  {
   "cell_type": "code",
   "execution_count": 100,
   "id": "c06f316e",
   "metadata": {
    "cellId": "k9rzo7c0nbg8jkodexma7q"
   },
   "outputs": [],
   "source": [
    "from tensorflow.keras.preprocessing import image \n",
    "import cv2\n",
    "import PIL\n",
    "from PIL import Image\n",
    "import numpy as np\n",
    "\n",
    "dsize = (128, 128)\n",
    "\n",
    "my_img = cv2.imread('Images/Inter/Inter-Regular2.jpg')\n",
    "\n",
    "pp_my_img = cv2.resize(my_img, dsize)\n",
    "pp_my_img = skimage.color.rgb2gray(pp_my_img) * 255\n",
    "pp_my_img = PIL.Image.fromarray(pp_my_img).convert('L')\n",
    "\n",
    "pp_my_img = image.img_to_array(pp_my_img)\n",
    "pp_my_img = pp_my_img/255\n",
    "pp_my_img = np.expand_dims(pp_my_img, axis=0)\n",
    "\n",
    "my_preds= model.predict(pp_my_img)"
   ]
  },
  {
   "cell_type": "code",
   "execution_count": 101,
   "id": "d4d89b22",
   "metadata": {
    "cellId": "vn8hfacnq6mficxuvtdaoi"
   },
   "outputs": [
    {
     "data": {
      "text/plain": [
       "array([[3.9320444e-08]], dtype=float32)"
      ]
     },
     "metadata": {},
     "output_type": "display_data"
    }
   ],
   "source": [
    "my_preds"
   ]
  },
  {
   "cell_type": "code",
   "execution_count": 102,
   "id": "021ca827",
   "metadata": {
    "cellId": "1tuh71fwz2hozc87ui0obs"
   },
   "outputs": [],
   "source": [
    "dsize = (128, 128)\n",
    "\n",
    "my_img = cv2.imread('Images/Montserrat/Montserrat-Black1.jpg')\n",
    "\n",
    "pp_my_img = cv2.resize(my_img, dsize)\n",
    "pp_my_img = skimage.color.rgb2gray(pp_my_img) * 255\n",
    "pp_my_img = PIL.Image.fromarray(pp_my_img).convert('L')\n",
    "\n",
    "pp_my_img = image.img_to_array(pp_my_img)\n",
    "pp_my_img = pp_my_img/255\n",
    "pp_my_img = np.expand_dims(pp_my_img, axis=0)\n",
    "\n",
    "my_preds= model.predict(pp_my_img)"
   ]
  },
  {
   "cell_type": "code",
   "execution_count": 103,
   "id": "4288a7d0",
   "metadata": {
    "cellId": "4gdikvn1f7l1fs0sfxb99d"
   },
   "outputs": [
    {
     "data": {
      "text/plain": [
       "array([[0.99999964]], dtype=float32)"
      ]
     },
     "metadata": {},
     "output_type": "display_data"
    }
   ],
   "source": [
    "my_preds"
   ]
  },
  {
   "cell_type": "code",
   "execution_count": null,
   "id": "2a418862",
   "metadata": {
    "cellId": "q6n4hht31k0thoz10r0vgp"
   },
   "outputs": [],
   "source": []
  }
 ],
 "metadata": {
  "kernelspec": {
   "display_name": "Yandex DataSphere Kernel",
   "language": "python",
   "name": "python3"
  },
  "language_info": {
   "codemirror_mode": {
    "name": "ipython",
    "version": 3
   },
   "file_extension": ".py",
   "mimetype": "text/x-python",
   "name": "python",
   "nbconvert_exporter": "python",
   "pygments_lexer": "ipython3",
   "version": "3.7.7"
  },
  "notebookId": "adc43ded-b7e0-4ac2-8311-848d0b5a8604",
  "notebookPath": "Check_model.ipynb"
 },
 "nbformat": 4,
 "nbformat_minor": 5
}
